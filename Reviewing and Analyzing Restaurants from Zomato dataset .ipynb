{
 "cells": [
  {
   "cell_type": "code",
   "execution_count": 1,
   "id": "52fd7e6a",
   "metadata": {},
   "outputs": [],
   "source": [
    "import pandas as pd\n",
    "import numpy as np\n",
    "import matplotlib.pyplot as plt\n",
    "import seaborn as sns\n",
    "plt.style.use('dark_background')"
   ]
  },
  {
   "cell_type": "code",
   "execution_count": 3,
   "id": "b8f5571e",
   "metadata": {},
   "outputs": [
    {
     "data": {
      "text/html": [
       "<div>\n",
       "<style scoped>\n",
       "    .dataframe tbody tr th:only-of-type {\n",
       "        vertical-align: middle;\n",
       "    }\n",
       "\n",
       "    .dataframe tbody tr th {\n",
       "        vertical-align: top;\n",
       "    }\n",
       "\n",
       "    .dataframe thead th {\n",
       "        text-align: right;\n",
       "    }\n",
       "</style>\n",
       "<table border=\"1\" class=\"dataframe\">\n",
       "  <thead>\n",
       "    <tr style=\"text-align: right;\">\n",
       "      <th></th>\n",
       "      <th>url</th>\n",
       "      <th>address</th>\n",
       "      <th>name</th>\n",
       "      <th>online_order</th>\n",
       "      <th>book_table</th>\n",
       "      <th>rate</th>\n",
       "      <th>votes</th>\n",
       "      <th>phone</th>\n",
       "      <th>location</th>\n",
       "      <th>rest_type</th>\n",
       "      <th>dish_liked</th>\n",
       "      <th>cuisines</th>\n",
       "      <th>approx_cost(for two people)</th>\n",
       "      <th>reviews_list</th>\n",
       "      <th>menu_item</th>\n",
       "      <th>listed_in(type)</th>\n",
       "      <th>listed_in(city)</th>\n",
       "    </tr>\n",
       "  </thead>\n",
       "  <tbody>\n",
       "    <tr>\n",
       "      <th>0</th>\n",
       "      <td>https://www.zomato.com/bangalore/jalsa-banasha...</td>\n",
       "      <td>942, 21st Main Road, 2nd Stage, Banashankari, ...</td>\n",
       "      <td>Jalsa</td>\n",
       "      <td>Yes</td>\n",
       "      <td>Yes</td>\n",
       "      <td>4.1/5</td>\n",
       "      <td>775</td>\n",
       "      <td>080 42297555\\r\\n+91 9743772233</td>\n",
       "      <td>Banashankari</td>\n",
       "      <td>Casual Dining</td>\n",
       "      <td>Pasta, Lunch Buffet, Masala Papad, Paneer Laja...</td>\n",
       "      <td>North Indian, Mughlai, Chinese</td>\n",
       "      <td>800</td>\n",
       "      <td>[('Rated 4.0', 'RATED\\n  A beautiful place to ...</td>\n",
       "      <td>[]</td>\n",
       "      <td>Buffet</td>\n",
       "      <td>Banashankari</td>\n",
       "    </tr>\n",
       "    <tr>\n",
       "      <th>1</th>\n",
       "      <td>https://www.zomato.com/bangalore/spice-elephan...</td>\n",
       "      <td>2nd Floor, 80 Feet Road, Near Big Bazaar, 6th ...</td>\n",
       "      <td>Spice Elephant</td>\n",
       "      <td>Yes</td>\n",
       "      <td>No</td>\n",
       "      <td>4.1/5</td>\n",
       "      <td>787</td>\n",
       "      <td>080 41714161</td>\n",
       "      <td>Banashankari</td>\n",
       "      <td>Casual Dining</td>\n",
       "      <td>Momos, Lunch Buffet, Chocolate Nirvana, Thai G...</td>\n",
       "      <td>Chinese, North Indian, Thai</td>\n",
       "      <td>800</td>\n",
       "      <td>[('Rated 4.0', 'RATED\\n  Had been here for din...</td>\n",
       "      <td>[]</td>\n",
       "      <td>Buffet</td>\n",
       "      <td>Banashankari</td>\n",
       "    </tr>\n",
       "    <tr>\n",
       "      <th>2</th>\n",
       "      <td>https://www.zomato.com/SanchurroBangalore?cont...</td>\n",
       "      <td>1112, Next to KIMS Medical College, 17th Cross...</td>\n",
       "      <td>San Churro Cafe</td>\n",
       "      <td>Yes</td>\n",
       "      <td>No</td>\n",
       "      <td>3.8/5</td>\n",
       "      <td>918</td>\n",
       "      <td>+91 9663487993</td>\n",
       "      <td>Banashankari</td>\n",
       "      <td>Cafe, Casual Dining</td>\n",
       "      <td>Churros, Cannelloni, Minestrone Soup, Hot Choc...</td>\n",
       "      <td>Cafe, Mexican, Italian</td>\n",
       "      <td>800</td>\n",
       "      <td>[('Rated 3.0', \"RATED\\n  Ambience is not that ...</td>\n",
       "      <td>[]</td>\n",
       "      <td>Buffet</td>\n",
       "      <td>Banashankari</td>\n",
       "    </tr>\n",
       "    <tr>\n",
       "      <th>3</th>\n",
       "      <td>https://www.zomato.com/bangalore/addhuri-udupi...</td>\n",
       "      <td>1st Floor, Annakuteera, 3rd Stage, Banashankar...</td>\n",
       "      <td>Addhuri Udupi Bhojana</td>\n",
       "      <td>No</td>\n",
       "      <td>No</td>\n",
       "      <td>3.7/5</td>\n",
       "      <td>88</td>\n",
       "      <td>+91 9620009302</td>\n",
       "      <td>Banashankari</td>\n",
       "      <td>Quick Bites</td>\n",
       "      <td>Masala Dosa</td>\n",
       "      <td>South Indian, North Indian</td>\n",
       "      <td>300</td>\n",
       "      <td>[('Rated 4.0', \"RATED\\n  Great food and proper...</td>\n",
       "      <td>[]</td>\n",
       "      <td>Buffet</td>\n",
       "      <td>Banashankari</td>\n",
       "    </tr>\n",
       "    <tr>\n",
       "      <th>4</th>\n",
       "      <td>https://www.zomato.com/bangalore/grand-village...</td>\n",
       "      <td>10, 3rd Floor, Lakshmi Associates, Gandhi Baza...</td>\n",
       "      <td>Grand Village</td>\n",
       "      <td>No</td>\n",
       "      <td>No</td>\n",
       "      <td>3.8/5</td>\n",
       "      <td>166</td>\n",
       "      <td>+91 8026612447\\r\\n+91 9901210005</td>\n",
       "      <td>Basavanagudi</td>\n",
       "      <td>Casual Dining</td>\n",
       "      <td>Panipuri, Gol Gappe</td>\n",
       "      <td>North Indian, Rajasthani</td>\n",
       "      <td>600</td>\n",
       "      <td>[('Rated 4.0', 'RATED\\n  Very good restaurant ...</td>\n",
       "      <td>[]</td>\n",
       "      <td>Buffet</td>\n",
       "      <td>Banashankari</td>\n",
       "    </tr>\n",
       "  </tbody>\n",
       "</table>\n",
       "</div>"
      ],
      "text/plain": [
       "                                                 url  \\\n",
       "0  https://www.zomato.com/bangalore/jalsa-banasha...   \n",
       "1  https://www.zomato.com/bangalore/spice-elephan...   \n",
       "2  https://www.zomato.com/SanchurroBangalore?cont...   \n",
       "3  https://www.zomato.com/bangalore/addhuri-udupi...   \n",
       "4  https://www.zomato.com/bangalore/grand-village...   \n",
       "\n",
       "                                             address                   name  \\\n",
       "0  942, 21st Main Road, 2nd Stage, Banashankari, ...                  Jalsa   \n",
       "1  2nd Floor, 80 Feet Road, Near Big Bazaar, 6th ...         Spice Elephant   \n",
       "2  1112, Next to KIMS Medical College, 17th Cross...        San Churro Cafe   \n",
       "3  1st Floor, Annakuteera, 3rd Stage, Banashankar...  Addhuri Udupi Bhojana   \n",
       "4  10, 3rd Floor, Lakshmi Associates, Gandhi Baza...          Grand Village   \n",
       "\n",
       "  online_order book_table   rate  votes                             phone  \\\n",
       "0          Yes        Yes  4.1/5    775    080 42297555\\r\\n+91 9743772233   \n",
       "1          Yes         No  4.1/5    787                      080 41714161   \n",
       "2          Yes         No  3.8/5    918                    +91 9663487993   \n",
       "3           No         No  3.7/5     88                    +91 9620009302   \n",
       "4           No         No  3.8/5    166  +91 8026612447\\r\\n+91 9901210005   \n",
       "\n",
       "       location            rest_type  \\\n",
       "0  Banashankari        Casual Dining   \n",
       "1  Banashankari        Casual Dining   \n",
       "2  Banashankari  Cafe, Casual Dining   \n",
       "3  Banashankari          Quick Bites   \n",
       "4  Basavanagudi        Casual Dining   \n",
       "\n",
       "                                          dish_liked  \\\n",
       "0  Pasta, Lunch Buffet, Masala Papad, Paneer Laja...   \n",
       "1  Momos, Lunch Buffet, Chocolate Nirvana, Thai G...   \n",
       "2  Churros, Cannelloni, Minestrone Soup, Hot Choc...   \n",
       "3                                        Masala Dosa   \n",
       "4                                Panipuri, Gol Gappe   \n",
       "\n",
       "                         cuisines approx_cost(for two people)  \\\n",
       "0  North Indian, Mughlai, Chinese                         800   \n",
       "1     Chinese, North Indian, Thai                         800   \n",
       "2          Cafe, Mexican, Italian                         800   \n",
       "3      South Indian, North Indian                         300   \n",
       "4        North Indian, Rajasthani                         600   \n",
       "\n",
       "                                        reviews_list menu_item  \\\n",
       "0  [('Rated 4.0', 'RATED\\n  A beautiful place to ...        []   \n",
       "1  [('Rated 4.0', 'RATED\\n  Had been here for din...        []   \n",
       "2  [('Rated 3.0', \"RATED\\n  Ambience is not that ...        []   \n",
       "3  [('Rated 4.0', \"RATED\\n  Great food and proper...        []   \n",
       "4  [('Rated 4.0', 'RATED\\n  Very good restaurant ...        []   \n",
       "\n",
       "  listed_in(type) listed_in(city)  \n",
       "0          Buffet    Banashankari  \n",
       "1          Buffet    Banashankari  \n",
       "2          Buffet    Banashankari  \n",
       "3          Buffet    Banashankari  \n",
       "4          Buffet    Banashankari  "
      ]
     },
     "execution_count": 3,
     "metadata": {},
     "output_type": "execute_result"
    }
   ],
   "source": [
    "df = pd.read_csv(r'C:\\Users\\Envy6\\Downloads\\zomato.csv.zip')\n",
    "df.head()"
   ]
  },
  {
   "cell_type": "code",
   "execution_count": 4,
   "id": "c4c746ed",
   "metadata": {},
   "outputs": [
    {
     "data": {
      "text/plain": [
       "(51717, 17)"
      ]
     },
     "execution_count": 4,
     "metadata": {},
     "output_type": "execute_result"
    }
   ],
   "source": [
    "df.shape"
   ]
  },
  {
   "cell_type": "code",
   "execution_count": 6,
   "id": "d10366fc",
   "metadata": {},
   "outputs": [
    {
     "data": {
      "text/plain": [
       "Index(['url', 'address', 'name', 'online_order', 'book_table', 'rate', 'votes',\n",
       "       'phone', 'location', 'rest_type', 'dish_liked', 'cuisines',\n",
       "       'approx_cost(for two people)', 'reviews_list', 'menu_item',\n",
       "       'listed_in(type)', 'listed_in(city)'],\n",
       "      dtype='object')"
      ]
     },
     "execution_count": 6,
     "metadata": {},
     "output_type": "execute_result"
    }
   ],
   "source": [
    "df.columns"
   ]
  },
  {
   "cell_type": "code",
   "execution_count": 8,
   "id": "720868f4",
   "metadata": {},
   "outputs": [
    {
     "data": {
      "text/html": [
       "<div>\n",
       "<style scoped>\n",
       "    .dataframe tbody tr th:only-of-type {\n",
       "        vertical-align: middle;\n",
       "    }\n",
       "\n",
       "    .dataframe tbody tr th {\n",
       "        vertical-align: top;\n",
       "    }\n",
       "\n",
       "    .dataframe thead th {\n",
       "        text-align: right;\n",
       "    }\n",
       "</style>\n",
       "<table border=\"1\" class=\"dataframe\">\n",
       "  <thead>\n",
       "    <tr style=\"text-align: right;\">\n",
       "      <th></th>\n",
       "      <th>name</th>\n",
       "      <th>online_order</th>\n",
       "      <th>book_table</th>\n",
       "      <th>rate</th>\n",
       "      <th>votes</th>\n",
       "      <th>location</th>\n",
       "      <th>rest_type</th>\n",
       "      <th>cuisines</th>\n",
       "      <th>approx_cost(for two people)</th>\n",
       "      <th>listed_in(type)</th>\n",
       "      <th>listed_in(city)</th>\n",
       "    </tr>\n",
       "  </thead>\n",
       "  <tbody>\n",
       "    <tr>\n",
       "      <th>0</th>\n",
       "      <td>Jalsa</td>\n",
       "      <td>Yes</td>\n",
       "      <td>Yes</td>\n",
       "      <td>4.1/5</td>\n",
       "      <td>775</td>\n",
       "      <td>Banashankari</td>\n",
       "      <td>Casual Dining</td>\n",
       "      <td>North Indian, Mughlai, Chinese</td>\n",
       "      <td>800</td>\n",
       "      <td>Buffet</td>\n",
       "      <td>Banashankari</td>\n",
       "    </tr>\n",
       "    <tr>\n",
       "      <th>1</th>\n",
       "      <td>Spice Elephant</td>\n",
       "      <td>Yes</td>\n",
       "      <td>No</td>\n",
       "      <td>4.1/5</td>\n",
       "      <td>787</td>\n",
       "      <td>Banashankari</td>\n",
       "      <td>Casual Dining</td>\n",
       "      <td>Chinese, North Indian, Thai</td>\n",
       "      <td>800</td>\n",
       "      <td>Buffet</td>\n",
       "      <td>Banashankari</td>\n",
       "    </tr>\n",
       "    <tr>\n",
       "      <th>2</th>\n",
       "      <td>San Churro Cafe</td>\n",
       "      <td>Yes</td>\n",
       "      <td>No</td>\n",
       "      <td>3.8/5</td>\n",
       "      <td>918</td>\n",
       "      <td>Banashankari</td>\n",
       "      <td>Cafe, Casual Dining</td>\n",
       "      <td>Cafe, Mexican, Italian</td>\n",
       "      <td>800</td>\n",
       "      <td>Buffet</td>\n",
       "      <td>Banashankari</td>\n",
       "    </tr>\n",
       "    <tr>\n",
       "      <th>3</th>\n",
       "      <td>Addhuri Udupi Bhojana</td>\n",
       "      <td>No</td>\n",
       "      <td>No</td>\n",
       "      <td>3.7/5</td>\n",
       "      <td>88</td>\n",
       "      <td>Banashankari</td>\n",
       "      <td>Quick Bites</td>\n",
       "      <td>South Indian, North Indian</td>\n",
       "      <td>300</td>\n",
       "      <td>Buffet</td>\n",
       "      <td>Banashankari</td>\n",
       "    </tr>\n",
       "    <tr>\n",
       "      <th>4</th>\n",
       "      <td>Grand Village</td>\n",
       "      <td>No</td>\n",
       "      <td>No</td>\n",
       "      <td>3.8/5</td>\n",
       "      <td>166</td>\n",
       "      <td>Basavanagudi</td>\n",
       "      <td>Casual Dining</td>\n",
       "      <td>North Indian, Rajasthani</td>\n",
       "      <td>600</td>\n",
       "      <td>Buffet</td>\n",
       "      <td>Banashankari</td>\n",
       "    </tr>\n",
       "  </tbody>\n",
       "</table>\n",
       "</div>"
      ],
      "text/plain": [
       "                    name online_order book_table   rate  votes      location  \\\n",
       "0                  Jalsa          Yes        Yes  4.1/5    775  Banashankari   \n",
       "1         Spice Elephant          Yes         No  4.1/5    787  Banashankari   \n",
       "2        San Churro Cafe          Yes         No  3.8/5    918  Banashankari   \n",
       "3  Addhuri Udupi Bhojana           No         No  3.7/5     88  Banashankari   \n",
       "4          Grand Village           No         No  3.8/5    166  Basavanagudi   \n",
       "\n",
       "             rest_type                        cuisines  \\\n",
       "0        Casual Dining  North Indian, Mughlai, Chinese   \n",
       "1        Casual Dining     Chinese, North Indian, Thai   \n",
       "2  Cafe, Casual Dining          Cafe, Mexican, Italian   \n",
       "3          Quick Bites      South Indian, North Indian   \n",
       "4        Casual Dining        North Indian, Rajasthani   \n",
       "\n",
       "  approx_cost(for two people) listed_in(type) listed_in(city)  \n",
       "0                         800          Buffet    Banashankari  \n",
       "1                         800          Buffet    Banashankari  \n",
       "2                         800          Buffet    Banashankari  \n",
       "3                         300          Buffet    Banashankari  \n",
       "4                         600          Buffet    Banashankari  "
      ]
     },
     "execution_count": 8,
     "metadata": {},
     "output_type": "execute_result"
    }
   ],
   "source": [
    "df = df.drop(['url' , 'address' , 'phone' , 'menu_item' , 'dish_liked' , 'reviews_list'] , axis=1)\n",
    "df.head()"
   ]
  },
  {
   "cell_type": "code",
   "execution_count": 9,
   "id": "51453ff0",
   "metadata": {},
   "outputs": [
    {
     "data": {
      "text/plain": [
       "<bound method DataFrame.info of                                                     name online_order  \\\n",
       "0                                                  Jalsa          Yes   \n",
       "1                                         Spice Elephant          Yes   \n",
       "2                                        San Churro Cafe          Yes   \n",
       "3                                  Addhuri Udupi Bhojana           No   \n",
       "4                                          Grand Village           No   \n",
       "...                                                  ...          ...   \n",
       "51712  Best Brews - Four Points by Sheraton Bengaluru...           No   \n",
       "51713                           Vinod Bar And Restaurant           No   \n",
       "51714  Plunge - Sheraton Grand Bengaluru Whitefield H...           No   \n",
       "51715  Chime - Sheraton Grand Bengaluru Whitefield Ho...           No   \n",
       "51716                       The Nest - The Den Bengaluru           No   \n",
       "\n",
       "      book_table    rate  votes                    location  \\\n",
       "0            Yes   4.1/5    775                Banashankari   \n",
       "1             No   4.1/5    787                Banashankari   \n",
       "2             No   3.8/5    918                Banashankari   \n",
       "3             No   3.7/5     88                Banashankari   \n",
       "4             No   3.8/5    166                Basavanagudi   \n",
       "...          ...     ...    ...                         ...   \n",
       "51712         No  3.6 /5     27                  Whitefield   \n",
       "51713         No     NaN      0                  Whitefield   \n",
       "51714         No     NaN      0                  Whitefield   \n",
       "51715        Yes  4.3 /5    236  ITPL Main Road, Whitefield   \n",
       "51716         No  3.4 /5     13  ITPL Main Road, Whitefield   \n",
       "\n",
       "                 rest_type                                cuisines  \\\n",
       "0            Casual Dining          North Indian, Mughlai, Chinese   \n",
       "1            Casual Dining             Chinese, North Indian, Thai   \n",
       "2      Cafe, Casual Dining                  Cafe, Mexican, Italian   \n",
       "3              Quick Bites              South Indian, North Indian   \n",
       "4            Casual Dining                North Indian, Rajasthani   \n",
       "...                    ...                                     ...   \n",
       "51712                  Bar                             Continental   \n",
       "51713                  Bar                             Finger Food   \n",
       "51714                  Bar                             Finger Food   \n",
       "51715                  Bar                             Finger Food   \n",
       "51716   Bar, Casual Dining  Finger Food, North Indian, Continental   \n",
       "\n",
       "      approx_cost(for two people) listed_in(type) listed_in(city)  \n",
       "0                             800          Buffet    Banashankari  \n",
       "1                             800          Buffet    Banashankari  \n",
       "2                             800          Buffet    Banashankari  \n",
       "3                             300          Buffet    Banashankari  \n",
       "4                             600          Buffet    Banashankari  \n",
       "...                           ...             ...             ...  \n",
       "51712                       1,500   Pubs and bars      Whitefield  \n",
       "51713                         600   Pubs and bars      Whitefield  \n",
       "51714                       2,000   Pubs and bars      Whitefield  \n",
       "51715                       2,500   Pubs and bars      Whitefield  \n",
       "51716                       1,500   Pubs and bars      Whitefield  \n",
       "\n",
       "[51717 rows x 11 columns]>"
      ]
     },
     "execution_count": 9,
     "metadata": {},
     "output_type": "execute_result"
    }
   ],
   "source": [
    "df.info"
   ]
  },
  {
   "cell_type": "markdown",
   "id": "4120659b",
   "metadata": {},
   "source": [
    "# Dropping Duplicates"
   ]
  },
  {
   "cell_type": "code",
   "execution_count": 11,
   "id": "811bdad3",
   "metadata": {},
   "outputs": [
    {
     "data": {
      "text/plain": [
       "(51609, 11)"
      ]
     },
     "execution_count": 11,
     "metadata": {},
     "output_type": "execute_result"
    }
   ],
   "source": [
    "\n",
    "df.drop_duplicates(inplace = True)\n",
    "df.shape"
   ]
  },
  {
   "cell_type": "markdown",
   "id": "56762943",
   "metadata": {},
   "source": [
    "# Cleaning Rate Column\n"
   ]
  },
  {
   "cell_type": "code",
   "execution_count": 12,
   "id": "9828ea2a",
   "metadata": {},
   "outputs": [
    {
     "data": {
      "text/plain": [
       "array(['4.1/5', '3.8/5', '3.7/5', '3.6/5', '4.6/5', '4.0/5', '4.2/5',\n",
       "       '3.9/5', '3.1/5', '3.0/5', '3.2/5', '3.3/5', '2.8/5', '4.4/5',\n",
       "       '4.3/5', 'NEW', '2.9/5', '3.5/5', nan, '2.6/5', '3.8 /5', '3.4/5',\n",
       "       '4.5/5', '2.5/5', '2.7/5', '4.7/5', '2.4/5', '2.2/5', '2.3/5',\n",
       "       '3.4 /5', '-', '3.6 /5', '4.8/5', '3.9 /5', '4.2 /5', '4.0 /5',\n",
       "       '4.1 /5', '3.7 /5', '3.1 /5', '2.9 /5', '3.3 /5', '2.8 /5',\n",
       "       '3.5 /5', '2.7 /5', '2.5 /5', '3.2 /5', '2.6 /5', '4.5 /5',\n",
       "       '4.3 /5', '4.4 /5', '4.9/5', '2.1/5', '2.0/5', '1.8/5', '4.6 /5',\n",
       "       '4.9 /5', '3.0 /5', '4.8 /5', '2.3 /5', '4.7 /5', '2.4 /5',\n",
       "       '2.1 /5', '2.2 /5', '2.0 /5', '1.8 /5'], dtype=object)"
      ]
     },
     "execution_count": 12,
     "metadata": {},
     "output_type": "execute_result"
    }
   ],
   "source": [
    "df['rate'].unique()"
   ]
  },
  {
   "cell_type": "markdown",
   "id": "e764379f",
   "metadata": {},
   "source": [
    "# Removing \"NEW \" , \"-\" and \"/5\" from rate Column"
   ]
  },
  {
   "cell_type": "code",
   "execution_count": 13,
   "id": "60a93df5",
   "metadata": {},
   "outputs": [
    {
     "data": {
      "text/plain": [
       "0    4.1\n",
       "1    4.1\n",
       "2    3.8\n",
       "3    3.7\n",
       "4    3.8\n",
       "Name: rate, dtype: float64"
      ]
     },
     "execution_count": 13,
     "metadata": {},
     "output_type": "execute_result"
    }
   ],
   "source": [
    "def handlerate(value):\n",
    "    if(value==\"NEW\" or value=='-'):\n",
    "        return np.nan\n",
    "    else:\n",
    "        value= str(value).split('/')\n",
    "        value = value[0]\n",
    "        return float(value)\n",
    "    \n",
    "df['rate'] = df['rate'].apply(handlerate)\n",
    "df['rate'].head()"
   ]
  },
  {
   "cell_type": "code",
   "execution_count": 14,
   "id": "6bfe3d2d",
   "metadata": {},
   "outputs": [
    {
     "data": {
      "text/plain": [
       "10019"
      ]
     },
     "execution_count": 14,
     "metadata": {},
     "output_type": "execute_result"
    }
   ],
   "source": [
    "df.rate.isnull().sum()"
   ]
  },
  {
   "cell_type": "markdown",
   "id": "f5a6f6f0",
   "metadata": {},
   "source": [
    "# Filling Null vAlues"
   ]
  },
  {
   "cell_type": "code",
   "execution_count": 15,
   "id": "0689d31f",
   "metadata": {},
   "outputs": [
    {
     "data": {
      "text/plain": [
       "0"
      ]
     },
     "execution_count": 15,
     "metadata": {},
     "output_type": "execute_result"
    }
   ],
   "source": [
    "df['rate'].fillna(df['rate'].mean(), inplace = True)\n",
    "df['rate'].isnull().sum()"
   ]
  },
  {
   "cell_type": "code",
   "execution_count": 16,
   "id": "69b85b47",
   "metadata": {},
   "outputs": [
    {
     "name": "stdout",
     "output_type": "stream",
     "text": [
      "<class 'pandas.core.frame.DataFrame'>\n",
      "Int64Index: 51609 entries, 0 to 51716\n",
      "Data columns (total 11 columns):\n",
      " #   Column                       Non-Null Count  Dtype  \n",
      "---  ------                       --------------  -----  \n",
      " 0   name                         51609 non-null  object \n",
      " 1   online_order                 51609 non-null  object \n",
      " 2   book_table                   51609 non-null  object \n",
      " 3   rate                         51609 non-null  float64\n",
      " 4   votes                        51609 non-null  int64  \n",
      " 5   location                     51588 non-null  object \n",
      " 6   rest_type                    51382 non-null  object \n",
      " 7   cuisines                     51564 non-null  object \n",
      " 8   approx_cost(for two people)  51265 non-null  object \n",
      " 9   listed_in(type)              51609 non-null  object \n",
      " 10  listed_in(city)              51609 non-null  object \n",
      "dtypes: float64(1), int64(1), object(9)\n",
      "memory usage: 4.7+ MB\n"
     ]
    }
   ],
   "source": [
    "df.info()"
   ]
  },
  {
   "cell_type": "code",
   "execution_count": 17,
   "id": "2498351c",
   "metadata": {},
   "outputs": [
    {
     "data": {
      "text/html": [
       "<div>\n",
       "<style scoped>\n",
       "    .dataframe tbody tr th:only-of-type {\n",
       "        vertical-align: middle;\n",
       "    }\n",
       "\n",
       "    .dataframe tbody tr th {\n",
       "        vertical-align: top;\n",
       "    }\n",
       "\n",
       "    .dataframe thead th {\n",
       "        text-align: right;\n",
       "    }\n",
       "</style>\n",
       "<table border=\"1\" class=\"dataframe\">\n",
       "  <thead>\n",
       "    <tr style=\"text-align: right;\">\n",
       "      <th></th>\n",
       "      <th>name</th>\n",
       "      <th>online_order</th>\n",
       "      <th>book_table</th>\n",
       "      <th>rate</th>\n",
       "      <th>votes</th>\n",
       "      <th>location</th>\n",
       "      <th>rest_type</th>\n",
       "      <th>cuisines</th>\n",
       "      <th>Cost2plates</th>\n",
       "      <th>Type</th>\n",
       "      <th>listed_in(city)</th>\n",
       "    </tr>\n",
       "  </thead>\n",
       "  <tbody>\n",
       "    <tr>\n",
       "      <th>0</th>\n",
       "      <td>Jalsa</td>\n",
       "      <td>Yes</td>\n",
       "      <td>Yes</td>\n",
       "      <td>4.1</td>\n",
       "      <td>775</td>\n",
       "      <td>Banashankari</td>\n",
       "      <td>Casual Dining</td>\n",
       "      <td>North Indian, Mughlai, Chinese</td>\n",
       "      <td>800</td>\n",
       "      <td>Buffet</td>\n",
       "      <td>Banashankari</td>\n",
       "    </tr>\n",
       "    <tr>\n",
       "      <th>1</th>\n",
       "      <td>Spice Elephant</td>\n",
       "      <td>Yes</td>\n",
       "      <td>No</td>\n",
       "      <td>4.1</td>\n",
       "      <td>787</td>\n",
       "      <td>Banashankari</td>\n",
       "      <td>Casual Dining</td>\n",
       "      <td>Chinese, North Indian, Thai</td>\n",
       "      <td>800</td>\n",
       "      <td>Buffet</td>\n",
       "      <td>Banashankari</td>\n",
       "    </tr>\n",
       "    <tr>\n",
       "      <th>2</th>\n",
       "      <td>San Churro Cafe</td>\n",
       "      <td>Yes</td>\n",
       "      <td>No</td>\n",
       "      <td>3.8</td>\n",
       "      <td>918</td>\n",
       "      <td>Banashankari</td>\n",
       "      <td>Cafe, Casual Dining</td>\n",
       "      <td>Cafe, Mexican, Italian</td>\n",
       "      <td>800</td>\n",
       "      <td>Buffet</td>\n",
       "      <td>Banashankari</td>\n",
       "    </tr>\n",
       "    <tr>\n",
       "      <th>3</th>\n",
       "      <td>Addhuri Udupi Bhojana</td>\n",
       "      <td>No</td>\n",
       "      <td>No</td>\n",
       "      <td>3.7</td>\n",
       "      <td>88</td>\n",
       "      <td>Banashankari</td>\n",
       "      <td>Quick Bites</td>\n",
       "      <td>South Indian, North Indian</td>\n",
       "      <td>300</td>\n",
       "      <td>Buffet</td>\n",
       "      <td>Banashankari</td>\n",
       "    </tr>\n",
       "    <tr>\n",
       "      <th>4</th>\n",
       "      <td>Grand Village</td>\n",
       "      <td>No</td>\n",
       "      <td>No</td>\n",
       "      <td>3.8</td>\n",
       "      <td>166</td>\n",
       "      <td>Basavanagudi</td>\n",
       "      <td>Casual Dining</td>\n",
       "      <td>North Indian, Rajasthani</td>\n",
       "      <td>600</td>\n",
       "      <td>Buffet</td>\n",
       "      <td>Banashankari</td>\n",
       "    </tr>\n",
       "  </tbody>\n",
       "</table>\n",
       "</div>"
      ],
      "text/plain": [
       "                    name online_order book_table  rate  votes      location  \\\n",
       "0                  Jalsa          Yes        Yes   4.1    775  Banashankari   \n",
       "1         Spice Elephant          Yes         No   4.1    787  Banashankari   \n",
       "2        San Churro Cafe          Yes         No   3.8    918  Banashankari   \n",
       "3  Addhuri Udupi Bhojana           No         No   3.7     88  Banashankari   \n",
       "4          Grand Village           No         No   3.8    166  Basavanagudi   \n",
       "\n",
       "             rest_type                        cuisines Cost2plates    Type  \\\n",
       "0        Casual Dining  North Indian, Mughlai, Chinese         800  Buffet   \n",
       "1        Casual Dining     Chinese, North Indian, Thai         800  Buffet   \n",
       "2  Cafe, Casual Dining          Cafe, Mexican, Italian         800  Buffet   \n",
       "3          Quick Bites      South Indian, North Indian         300  Buffet   \n",
       "4        Casual Dining        North Indian, Rajasthani         600  Buffet   \n",
       "\n",
       "  listed_in(city)  \n",
       "0    Banashankari  \n",
       "1    Banashankari  \n",
       "2    Banashankari  \n",
       "3    Banashankari  \n",
       "4    Banashankari  "
      ]
     },
     "execution_count": 17,
     "metadata": {},
     "output_type": "execute_result"
    }
   ],
   "source": [
    "df.rename(columns = {'approx_cost(for two people)':'Cost2plates', 'listed_in(type)':'Type'}, inplace = True)\n",
    "df.head()"
   ]
  },
  {
   "cell_type": "code",
   "execution_count": 18,
   "id": "f5ab30e0",
   "metadata": {},
   "outputs": [
    {
     "data": {
      "text/plain": [
       "array(['Banashankari', 'Basavanagudi', 'Mysore Road', 'Jayanagar',\n",
       "       'Kumaraswamy Layout', 'Rajarajeshwari Nagar', 'Vijay Nagar',\n",
       "       'Uttarahalli', 'JP Nagar', 'South Bangalore', 'City Market',\n",
       "       'Nagarbhavi', 'Bannerghatta Road', 'BTM', 'Kanakapura Road',\n",
       "       'Bommanahalli', nan, 'CV Raman Nagar', 'Electronic City', 'HSR',\n",
       "       'Marathahalli', 'Sarjapur Road', 'Wilson Garden', 'Shanti Nagar',\n",
       "       'Koramangala 5th Block', 'Koramangala 8th Block', 'Richmond Road',\n",
       "       'Koramangala 7th Block', 'Jalahalli', 'Koramangala 4th Block',\n",
       "       'Bellandur', 'Whitefield', 'East Bangalore', 'Old Airport Road',\n",
       "       'Indiranagar', 'Koramangala 1st Block', 'Frazer Town', 'RT Nagar',\n",
       "       'MG Road', 'Brigade Road', 'Lavelle Road', 'Church Street',\n",
       "       'Ulsoor', 'Residency Road', 'Shivajinagar', 'Infantry Road',\n",
       "       'St. Marks Road', 'Cunningham Road', 'Race Course Road',\n",
       "       'Commercial Street', 'Vasanth Nagar', 'HBR Layout', 'Domlur',\n",
       "       'Ejipura', 'Jeevan Bhima Nagar', 'Old Madras Road', 'Malleshwaram',\n",
       "       'Seshadripuram', 'Kammanahalli', 'Koramangala 6th Block',\n",
       "       'Majestic', 'Langford Town', 'Central Bangalore', 'Sanjay Nagar',\n",
       "       'Brookefield', 'ITPL Main Road, Whitefield',\n",
       "       'Varthur Main Road, Whitefield', 'KR Puram',\n",
       "       'Koramangala 2nd Block', 'Koramangala 3rd Block', 'Koramangala',\n",
       "       'Hosur Road', 'Rajajinagar', 'Banaswadi', 'North Bangalore',\n",
       "       'Nagawara', 'Hennur', 'Kalyan Nagar', 'New BEL Road', 'Jakkur',\n",
       "       'Rammurthy Nagar', 'Thippasandra', 'Kaggadasapura', 'Hebbal',\n",
       "       'Kengeri', 'Sankey Road', 'Sadashiv Nagar', 'Basaveshwara Nagar',\n",
       "       'Yeshwantpur', 'West Bangalore', 'Magadi Road', 'Yelahanka',\n",
       "       'Sahakara Nagar', 'Peenya'], dtype=object)"
      ]
     },
     "execution_count": 18,
     "metadata": {},
     "output_type": "execute_result"
    }
   ],
   "source": [
    "df['location'].unique()"
   ]
  },
  {
   "cell_type": "code",
   "execution_count": 20,
   "id": "112e0336",
   "metadata": {},
   "outputs": [
    {
     "data": {
      "text/plain": [
       "array(['800', '300', '600', '700', '550', '500', '450', '650', '400',\n",
       "       '900', '200', '750', '150', '850', '100', '1,200', '350', '250',\n",
       "       '950', '1,000', '1,500', '1,300', '199', '80', '1,100', '160',\n",
       "       '1,600', '230', '130', '50', '190', '1,700', nan, '1,400', '180',\n",
       "       '1,350', '2,200', '2,000', '1,800', '1,900', '330', '2,500',\n",
       "       '2,100', '3,000', '2,800', '3,400', '40', '1,250', '3,500',\n",
       "       '4,000', '2,400', '2,600', '120', '1,450', '469', '70', '3,200',\n",
       "       '60', '560', '240', '360', '6,000', '1,050', '2,300', '4,100',\n",
       "       '5,000', '3,700', '1,650', '2,700', '4,500', '140'], dtype=object)"
      ]
     },
     "execution_count": 20,
     "metadata": {},
     "output_type": "execute_result"
    }
   ],
   "source": [
    "df['Cost2plates'].unique()"
   ]
  },
  {
   "cell_type": "markdown",
   "id": "59159a78",
   "metadata": {},
   "source": [
    "# removing ', ' from Cost2plates\n"
   ]
  },
  {
   "cell_type": "code",
   "execution_count": 21,
   "id": "092f18dd",
   "metadata": {},
   "outputs": [
    {
     "data": {
      "text/plain": [
       "array([ 800.,  300.,  600.,  700.,  550.,  500.,  450.,  650.,  400.,\n",
       "        900.,  200.,  750.,  150.,  850.,  100., 1200.,  350.,  250.,\n",
       "        950., 1000., 1500., 1300.,  199.,   80., 1100.,  160., 1600.,\n",
       "        230.,  130.,   50.,  190., 1700.,   nan, 1400.,  180., 1350.,\n",
       "       2200., 2000., 1800., 1900.,  330., 2500., 2100., 3000., 2800.,\n",
       "       3400.,   40., 1250., 3500., 4000., 2400., 2600.,  120., 1450.,\n",
       "        469.,   70., 3200.,   60.,  560.,  240.,  360., 6000., 1050.,\n",
       "       2300., 4100., 5000., 3700., 1650., 2700., 4500.,  140.])"
      ]
     },
     "execution_count": 21,
     "metadata": {},
     "output_type": "execute_result"
    }
   ],
   "source": [
    "def handlecomma(value):\n",
    "    value = str(value)\n",
    "    if ',' in value:\n",
    "        value = value.replace(',' , '')\n",
    "        return float(value)\n",
    "    else:\n",
    "        return float(value)\n",
    "    \n",
    "df['Cost2plates'] = df['Cost2plates'].apply(handlecomma)\n",
    "df['Cost2plates'].unique()"
   ]
  },
  {
   "cell_type": "code",
   "execution_count": 23,
   "id": "54900d45",
   "metadata": {},
   "outputs": [
    {
     "data": {
      "text/plain": [
       "Quick Bites                   19096\n",
       "Casual Dining                 10309\n",
       "Cafe                           3727\n",
       "Delivery                       2600\n",
       "Dessert Parlor                 2260\n",
       "                              ...  \n",
       "Dessert Parlor, Kiosk             2\n",
       "Food Court, Beverage Shop         2\n",
       "Dessert Parlor, Food Court        2\n",
       "Sweet Shop, Dessert Parlor        1\n",
       "Quick Bites, Kiosk                1\n",
       "Name: rest_type, Length: 93, dtype: int64"
      ]
     },
     "execution_count": 23,
     "metadata": {},
     "output_type": "execute_result"
    }
   ],
   "source": [
    "df['rest_type'].value_counts()"
   ]
  },
  {
   "cell_type": "code",
   "execution_count": 25,
   "id": "0915ddab",
   "metadata": {},
   "outputs": [
    {
     "data": {
      "text/plain": [
       "Quick Bites                   19096\n",
       "Casual Dining                 10309\n",
       "Cafe                           3727\n",
       "Delivery                       2600\n",
       "Dessert Parlor                 2260\n",
       "                              ...  \n",
       "Dessert Parlor, Kiosk             2\n",
       "Food Court, Beverage Shop         2\n",
       "Dessert Parlor, Food Court        2\n",
       "Sweet Shop, Dessert Parlor        1\n",
       "Quick Bites, Kiosk                1\n",
       "Name: rest_type, Length: 93, dtype: int64"
      ]
     },
     "execution_count": 25,
     "metadata": {},
     "output_type": "execute_result"
    }
   ],
   "source": [
    "rest_types = df['rest_type'].value_counts(ascending = False)\n",
    "rest_types"
   ]
  },
  {
   "cell_type": "code",
   "execution_count": 26,
   "id": "13ef511a",
   "metadata": {},
   "outputs": [
    {
     "data": {
      "text/plain": [
       "Beverage Shop                 865\n",
       "Bar                           697\n",
       "Food Court                    621\n",
       "Sweet Shop                    468\n",
       "Bar, Casual Dining            420\n",
       "                             ... \n",
       "Dessert Parlor, Kiosk           2\n",
       "Food Court, Beverage Shop       2\n",
       "Dessert Parlor, Food Court      2\n",
       "Sweet Shop, Dessert Parlor      1\n",
       "Quick Bites, Kiosk              1\n",
       "Name: rest_type, Length: 85, dtype: int64"
      ]
     },
     "execution_count": 26,
     "metadata": {},
     "output_type": "execute_result"
    }
   ],
   "source": [
    "rest_types_lessthan1000 = rest_types[rest_types<1000]\n",
    "rest_types_lessthan1000"
   ]
  },
  {
   "cell_type": "markdown",
   "id": "a6f42450",
   "metadata": {},
   "source": [
    "# Naming rest types less than 1000 as 'others'"
   ]
  },
  {
   "cell_type": "code",
   "execution_count": 28,
   "id": "0847f848",
   "metadata": {},
   "outputs": [
    {
     "data": {
      "text/plain": [
       "Quick Bites           19096\n",
       "Casual Dining         10309\n",
       "others                 9071\n",
       "Cafe                   3727\n",
       "Delivery               2600\n",
       "Dessert Parlor         2260\n",
       "Takeaway, Delivery     2031\n",
       "Casual Dining, Bar     1148\n",
       "Bakery                 1140\n",
       "Name: rest_type, dtype: int64"
      ]
     },
     "execution_count": 28,
     "metadata": {},
     "output_type": "execute_result"
    }
   ],
   "source": [
    "def handle_rest_type(value):\n",
    "    if(value in rest_types_lessthan1000):\n",
    "        return 'others'\n",
    "    else:\n",
    "        return value\n",
    "    \n",
    "df['rest_type'] = df['rest_type'].apply(handle_rest_type)\n",
    "df['rest_type'].value_counts()"
   ]
  },
  {
   "cell_type": "markdown",
   "id": "7c680c40",
   "metadata": {},
   "source": [
    "# Cleaning Location table"
   ]
  },
  {
   "cell_type": "code",
   "execution_count": 29,
   "id": "3a9c9255",
   "metadata": {},
   "outputs": [
    {
     "data": {
      "text/plain": [
       "BTM                      5109\n",
       "HSR                      2521\n",
       "Koramangala 5th Block    2502\n",
       "JP Nagar                 2234\n",
       "Whitefield               2140\n",
       "                         ... \n",
       "West Bangalore              6\n",
       "Yelahanka                   6\n",
       "Jakkur                      3\n",
       "Rajarajeshwari Nagar        2\n",
       "Peenya                      1\n",
       "Name: location, Length: 93, dtype: int64"
      ]
     },
     "execution_count": 29,
     "metadata": {},
     "output_type": "execute_result"
    }
   ],
   "source": [
    "df['location'].value_counts()"
   ]
  },
  {
   "cell_type": "code",
   "execution_count": null,
   "id": "ab06011c",
   "metadata": {
    "collapsed": true
   },
   "outputs": [],
   "source": []
  },
  {
   "cell_type": "code",
   "execution_count": 34,
   "id": "0b83fe97",
   "metadata": {},
   "outputs": [
    {
     "data": {
      "text/plain": [
       "BTM                      5109\n",
       "others                   4699\n",
       "HSR                      2521\n",
       "Koramangala 5th Block    2502\n",
       "JP Nagar                 2234\n",
       "Whitefield               2140\n",
       "Indiranagar              2075\n",
       "Jayanagar                1926\n",
       "Marathahalli             1843\n",
       "Bannerghatta Road        1628\n",
       "Bellandur                1283\n",
       "Electronic City          1256\n",
       "Koramangala 1st Block    1237\n",
       "Brigade Road             1210\n",
       "Koramangala 7th Block    1179\n",
       "Koramangala 6th Block    1154\n",
       "Sarjapur Road            1063\n",
       "Koramangala 4th Block    1017\n",
       "Ulsoor                   1017\n",
       "MG Road                   917\n",
       "Banashankari              904\n",
       "Kalyan Nagar              853\n",
       "Richmond Road             811\n",
       "Malleshwaram              722\n",
       "Frazer Town               720\n",
       "Basavanagudi              684\n",
       "Residency Road            672\n",
       "Banaswadi                 659\n",
       "Brookefield               658\n",
       "New BEL Road              649\n",
       "Kammanahalli              647\n",
       "Rajajinagar               591\n",
       "Church Street             566\n",
       "Lavelle Road              524\n",
       "Shanti Nagar              508\n",
       "Shivajinagar              498\n",
       "Domlur                    496\n",
       "Cunningham Road           490\n",
       "Old Airport Road          446\n",
       "Ejipura                   438\n",
       "Commercial Street         370\n",
       "St. Marks Road            352\n",
       "Koramangala 8th Block     320\n",
       "Name: location, dtype: int64"
      ]
     },
     "execution_count": 34,
     "metadata": {},
     "output_type": "execute_result"
    }
   ],
   "source": [
    "location=  df['location'].value_counts(ascending = False)\n",
    "location_lessthan300 = location[location<300]\n",
    "\n",
    "\n",
    "def handle_location(value):\n",
    "    if(value in location_lessthan300):\n",
    "        return 'others'\n",
    "    else:\n",
    "        return value\n",
    "    \n",
    "    \n",
    "df['location'] = df['location'].apply(handle_location)\n",
    "df['location'].value_counts()    \n"
   ]
  },
  {
   "cell_type": "markdown",
   "id": "3cb45519",
   "metadata": {},
   "source": [
    "# Cleaning Cuisines"
   ]
  },
  {
   "cell_type": "code",
   "execution_count": 36,
   "id": "56974934",
   "metadata": {},
   "outputs": [
    {
     "data": {
      "text/plain": [
       "others                                 26397\n",
       "North Indian                            2907\n",
       "North Indian, Chinese                   2381\n",
       "South Indian                            1826\n",
       "Biryani                                  915\n",
       "                                       ...  \n",
       "South Indian, Chinese, North Indian      105\n",
       "Italian, Pizza                           105\n",
       "North Indian, Mughlai, Chinese           104\n",
       "South Indian, Fast Food                  104\n",
       "North Indian, Chinese, Seafood           102\n",
       "Name: cuisines, Length: 70, dtype: int64"
      ]
     },
     "execution_count": 36,
     "metadata": {},
     "output_type": "execute_result"
    }
   ],
   "source": [
    "cuisines=  df['cuisines'].value_counts(ascending = False)\n",
    "cuisines_lessthan100 = cuisines[cuisines<100]\n",
    "\n",
    "\n",
    "def handle_cuisines(value):\n",
    "    if(value in cuisines_lessthan100):\n",
    "        return 'others'\n",
    "    else:\n",
    "        return value\n",
    "    \n",
    "    \n",
    "df['cuisines'] = df['cuisines'].apply(handle_cuisines)\n",
    "df['cuisines'].value_counts()    \n"
   ]
  },
  {
   "cell_type": "markdown",
   "id": "79cc11cd",
   "metadata": {},
   "source": [
    "# data is now cleaned\n",
    "lets visualize"
   ]
  },
  {
   "cell_type": "markdown",
   "id": "f3dc0ebc",
   "metadata": {},
   "source": [
    "# Plot of diffrent Locations"
   ]
  },
  {
   "cell_type": "code",
   "execution_count": 37,
   "id": "09557010",
   "metadata": {},
   "outputs": [
    {
     "name": "stderr",
     "output_type": "stream",
     "text": [
      "D:\\python\\lib\\site-packages\\seaborn\\_decorators.py:36: FutureWarning: Pass the following variable as a keyword arg: x. From version 0.12, the only valid positional argument will be `data`, and passing other arguments without an explicit keyword will result in an error or misinterpretation.\n",
      "  warnings.warn(\n"
     ]
    },
    {
     "data": {
      "text/plain": [
       "(array([ 0,  1,  2,  3,  4,  5,  6,  7,  8,  9, 10, 11, 12, 13, 14, 15, 16,\n",
       "        17, 18, 19, 20, 21, 22, 23, 24, 25, 26, 27, 28, 29, 30, 31, 32, 33,\n",
       "        34, 35, 36, 37, 38, 39, 40, 41, 42]),\n",
       " [Text(0, 0, 'Banashankari'),\n",
       "  Text(1, 0, 'Basavanagudi'),\n",
       "  Text(2, 0, 'others'),\n",
       "  Text(3, 0, 'Jayanagar'),\n",
       "  Text(4, 0, 'JP Nagar'),\n",
       "  Text(5, 0, 'Bannerghatta Road'),\n",
       "  Text(6, 0, 'BTM'),\n",
       "  Text(7, 0, 'Electronic City'),\n",
       "  Text(8, 0, 'HSR'),\n",
       "  Text(9, 0, 'Marathahalli'),\n",
       "  Text(10, 0, 'Sarjapur Road'),\n",
       "  Text(11, 0, 'Shanti Nagar'),\n",
       "  Text(12, 0, 'Koramangala 5th Block'),\n",
       "  Text(13, 0, 'Koramangala 8th Block'),\n",
       "  Text(14, 0, 'Richmond Road'),\n",
       "  Text(15, 0, 'Koramangala 7th Block'),\n",
       "  Text(16, 0, 'Koramangala 4th Block'),\n",
       "  Text(17, 0, 'Bellandur'),\n",
       "  Text(18, 0, 'Whitefield'),\n",
       "  Text(19, 0, 'Old Airport Road'),\n",
       "  Text(20, 0, 'Indiranagar'),\n",
       "  Text(21, 0, 'Koramangala 1st Block'),\n",
       "  Text(22, 0, 'Frazer Town'),\n",
       "  Text(23, 0, 'MG Road'),\n",
       "  Text(24, 0, 'Brigade Road'),\n",
       "  Text(25, 0, 'Lavelle Road'),\n",
       "  Text(26, 0, 'Church Street'),\n",
       "  Text(27, 0, 'Ulsoor'),\n",
       "  Text(28, 0, 'Residency Road'),\n",
       "  Text(29, 0, 'Shivajinagar'),\n",
       "  Text(30, 0, 'St. Marks Road'),\n",
       "  Text(31, 0, 'Cunningham Road'),\n",
       "  Text(32, 0, 'Commercial Street'),\n",
       "  Text(33, 0, 'Domlur'),\n",
       "  Text(34, 0, 'Ejipura'),\n",
       "  Text(35, 0, 'Malleshwaram'),\n",
       "  Text(36, 0, 'Kammanahalli'),\n",
       "  Text(37, 0, 'Koramangala 6th Block'),\n",
       "  Text(38, 0, 'Brookefield'),\n",
       "  Text(39, 0, 'Rajajinagar'),\n",
       "  Text(40, 0, 'Banaswadi'),\n",
       "  Text(41, 0, 'Kalyan Nagar'),\n",
       "  Text(42, 0, 'New BEL Road')])"
      ]
     },
     "execution_count": 37,
     "metadata": {},
     "output_type": "execute_result"
    },
    {
     "data": {
      "image/png": "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\n",
      "text/plain": [
       "<Figure size 1152x720 with 1 Axes>"
      ]
     },
     "metadata": {},
     "output_type": "display_data"
    }
   ],
   "source": [
    "plt.figure(figsize = (16,10))\n",
    "ax = sns.countplot(df['location'])\n",
    "plt.xticks(rotation = 90)"
   ]
  },
  {
   "cell_type": "code",
   "execution_count": null,
   "id": "2066fb90",
   "metadata": {},
   "outputs": [],
   "source": [
    "Online order facility\n"
   ]
  },
  {
   "cell_type": "code",
   "execution_count": 40,
   "id": "22b5e581",
   "metadata": {},
   "outputs": [
    {
     "name": "stderr",
     "output_type": "stream",
     "text": [
      "D:\\python\\lib\\site-packages\\seaborn\\_decorators.py:36: FutureWarning: Pass the following variable as a keyword arg: x. From version 0.12, the only valid positional argument will be `data`, and passing other arguments without an explicit keyword will result in an error or misinterpretation.\n",
      "  warnings.warn(\n"
     ]
    },
    {
     "data": {
      "text/plain": [
       "<AxesSubplot:xlabel='online_order', ylabel='count'>"
      ]
     },
     "execution_count": 40,
     "metadata": {},
     "output_type": "execute_result"
    },
    {
     "data": {
      "image/png": "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\n",
      "text/plain": [
       "<Figure size 360x360 with 1 Axes>"
      ]
     },
     "metadata": {},
     "output_type": "display_data"
    }
   ],
   "source": [
    "plt.figure(figsize = (5,5))\n",
    "sns.countplot(df['online_order'],palette = 'inferno')"
   ]
  },
  {
   "cell_type": "code",
   "execution_count": 43,
   "id": "e170e3e9",
   "metadata": {},
   "outputs": [
    {
     "data": {
      "text/plain": [
       "<AxesSubplot:xlabel='online_order', ylabel='rate'>"
      ]
     },
     "execution_count": 43,
     "metadata": {},
     "output_type": "execute_result"
    },
    {
     "data": {
      "image/png": "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\n",
      "text/plain": [
       "<Figure size 432x432 with 1 Axes>"
      ]
     },
     "metadata": {},
     "output_type": "display_data"
    }
   ],
  
   "source": [
    "this was the explanatory analysis of resturants from zomato dataset along with visualizations.\n"
   
